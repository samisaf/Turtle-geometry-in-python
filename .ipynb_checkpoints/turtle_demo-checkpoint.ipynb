{
 "cells": [
  {
   "cell_type": "code",
   "execution_count": 3,
   "metadata": {
    "collapsed": false
   },
   "outputs": [
    {
     "data": {
      "text/plain": [
       "<module 'turtle' from 'd:\\\\projects\\\\Turtles-Python\\\\turtle.py'>"
      ]
     },
     "execution_count": 3,
     "metadata": {},
     "output_type": "execute_result"
    }
   ],
   "source": [
    "from turtle import *\n",
    "import turtle\n",
    "import importlib; importlib.reload(turtle)\n",
    "import matplotlib.pyplot as plt\n",
    "%matplotlib inline"
   ]
  },
  {
   "cell_type": "code",
   "execution_count": 4,
   "metadata": {
    "collapsed": false
   },
   "outputs": [],
   "source": [
    "t = Terrarium()\n",
    "t1 = Turtle(t)\n",
    "t1.forward(100)\n",
    "t1.left(90)\n",
    "t1.forward(100)\n",
    "t.rescale()"
   ]
  },
  {
   "cell_type": "code",
   "execution_count": null,
   "metadata": {
    "collapsed": false,
    "scrolled": true
   },
   "outputs": [],
   "source": [
    "t = Terrarium(5)\n",
    "t1 = Turtle(t)\n",
    "n = 50\n",
    "for i in range(n):\n",
    "    t1.forward(n-i)\n",
    "    t1.left(90)\n",
    "t.rescale()"
   ]
  },
  {
   "cell_type": "code",
   "execution_count": null,
   "metadata": {
    "collapsed": false
   },
   "outputs": [],
   "source": [
    "t = Terrarium(5)\n",
    "t1 = Turtle(t)\n",
    "n = 50\n",
    "for i in range(n):\n",
    "    t1.forward(n-i)\n",
    "    t1.left(90-i)\n",
    "t.rescale()"
   ]
  },
  {
   "cell_type": "code",
   "execution_count": null,
   "metadata": {
    "collapsed": false
   },
   "outputs": [],
   "source": [
    "with Terrarium(5, animate=True) as t:\n",
    "    t1 = Turtle(t)\n",
    "    n = 50\n",
    "    for i in range(n):\n",
    "        t1.forward(n-i)\n",
    "        t1.left(90)"
   ]
  },
  {
   "cell_type": "code",
   "execution_count": null,
   "metadata": {
    "collapsed": true
   },
   "outputs": [],
   "source": []
  }
 ],
 "metadata": {
  "anaconda-cloud": {},
  "kernelspec": {
   "display_name": "Python [Root]",
   "language": "python",
   "name": "Python [Root]"
  },
  "language_info": {
   "codemirror_mode": {
    "name": "ipython",
    "version": 3
   },
   "file_extension": ".py",
   "mimetype": "text/x-python",
   "name": "python",
   "nbconvert_exporter": "python",
   "pygments_lexer": "ipython3",
   "version": "3.5.2"
  }
 },
 "nbformat": 4,
 "nbformat_minor": 1
}
