{
 "cells": [
  {
   "cell_type": "code",
   "execution_count": 21,
   "metadata": {
    "collapsed": false
   },
   "outputs": [],
   "source": [
    "import matplotlib.pyplot as plt\n",
    "%matplotlib inline"
   ]
  },
  {
   "cell_type": "code",
   "execution_count": 31,
   "metadata": {
    "collapsed": true
   },
   "outputs": [],
   "source": [
    "# %load turtle.py\n",
    "from collections import namedtuple\n",
    "from math import sin, cos, pi\n",
    "import matplotlib.pyplot as plt\n",
    "\n",
    "Point = namedtuple('Point', 'x y')\n",
    "degree = pi / 180.0\n",
    "\n",
    "class Turtle(object):\n",
    "    def __init__(self, terrarium):\n",
    "        self.pos = Point(0, 0)\n",
    "        self.angle = 0\n",
    "        self.pen = True\n",
    "        self.axes = terrarium.axes\n",
    "    \n",
    "    def forward(self, distance):\n",
    "        newx = self.pos.x + distance * cos(self.angle * degree)\n",
    "        newy = self.pos.y + distance * sin(self.angle * degree)\n",
    "        \n",
    "        if self.pen: \n",
    "            line = plt.Line2D((self.pos.x, newx), (self.pos.y, newy))\n",
    "            self.axes.add_line(line)\n",
    "\n",
    "        self.pos = Point(newx, newy)\n",
    "        return self.pos\n",
    "\n",
    "    def backward(self, distance):\n",
    "        return self.forward(-distance)\n",
    "\n",
    "    def left(self, angle):\n",
    "        self.angle = (self.angle + angle) % 360\n",
    "\n",
    "    def right(self, angle):\n",
    "        self.left(-angle)\n",
    "\n",
    "    def pendown(self):\n",
    "        self.pen = True\n",
    "\n",
    "    def penup(self):\n",
    "        self.pen = False\n",
    "\n",
    "    \n",
    "class Terrarium(object):\n",
    "    def __init__(self, size = (3, 3)):\n",
    "        # initialize figure\n",
    "        self.fig = plt.figure(figsize = (5, 5))\n",
    "        self.axes = plt.axes()\n",
    "        # remove axis ticks and labels\n",
    "        self.axes.set_xticks([])\n",
    "        self.axes.set_yticks([])\n",
    "        # make border transparent\n",
    "        for side in ['bottom', 'top', 'left', 'right']:\n",
    "            self.axes.spines[side].set_color('0.9')\n",
    "    \n",
    "    def rescale(self):\n",
    "        self.axes.axis('scaled')\n",
    "        # add some buffer to border so that drawing is not touching the edge\n",
    "        xmin, xmax, ymin, ymax = self.axes.axis()\n",
    "        dx = (xmax - xmin) / 50\n",
    "        self.axes.axis ([xmin-dx, xmax+dx, ymin-dx, ymax+dx])\n"
   ]
  },
  {
   "cell_type": "code",
   "execution_count": 35,
   "metadata": {
    "collapsed": false
   },
   "outputs": [
    {
     "data": {
      "image/png": "[encoded data removed]",
      "text/plain": [
       "<matplotlib.figure.Figure at 0x1c14e5f6d30>"
      ]
     },
     "metadata": {},
     "output_type": "display_data"
    }
   ],
   "source": [
    "t = Terrarium()\n",
    "t1 = Turtle(t)\n",
    "t1.forward(100)\n",
    "t1.left(90)\n",
    "t1.forward(100)\n",
    "t.rescale()"
   ]
  },
  {
   "cell_type": "code",
   "execution_count": null,
   "metadata": {
    "collapsed": true
   },
   "outputs": [],
   "source": []
  }
 ],
 "metadata": {
  "anaconda-cloud": {},
  "kernelspec": {
   "display_name": "Python [conda root]",
   "language": "python",
   "name": "conda-root-py"
  },
  "language_info": {
   "codemirror_mode": {
    "name": "ipython",
    "version": 3
   },
   "file_extension": ".py",
   "mimetype": "text/x-python",
   "name": "python",
   "nbconvert_exporter": "python",
   "pygments_lexer": "ipython3",
   "version": "3.5.2"
  }
 },
 "nbformat": 4,
 "nbformat_minor": 1
}
